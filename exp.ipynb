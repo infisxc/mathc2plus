{
 "cells": [
  {
   "cell_type": "code",
   "execution_count": null,
   "metadata": {},
   "outputs": [],
   "source": [
    "from tools import *"
   ]
  },
  {
   "cell_type": "markdown",
   "metadata": {},
   "source": [
    "# Synopsis\n",
    "Dans cet atelier nous mettons en pratique les concepts vus ce mardi. Pour cela,\n",
    "nous analysons une base de données publique fournissant une estimation des\n",
    "émissions de carbone chaque année (sur base de la consommation de carburants\n",
    "fossiles et de la production de ciment) entre 1751 et 2014 [1].\n",
    "\n",
    "Les données sont fournies sous forme de deux listes `X` et `Y`. La liste `X`\n",
    "contient les années de mesures alors que la liste `Y` contient les émissions de\n",
    "carbone, exprimées en millions de tonnes. L'entrée en position `i` de la liste\n",
    "`X` correspond à l'année des émissions de carbone à la position `i` de la liste\n",
    "`Y`. Par exemple si `X[i] = 2000` et `Y[i] = 6733`, cela signifie que 6733\n",
    "millions de tonnes de carbone ont été émises en l'an 2000.\n",
    "\n",
    "La liste `X` est ordonnée en ordre strictement croissant telle que pour tout\n",
    "`i >= 0`,\n",
    "* si `j > i` et `j < len(X)` alors `X[j] > X[i]`\n",
    "* si `j = i` et `j < len(X)` alors `X[j] = X[i]`.\n",
    "\n",
    "La combinaison de `X` et `Y` forme ce qu'on appelle couramment une _série\n",
    "temporelle_ [2].\n",
    "\n",
    "Nous commencerons par afficher les données sous forme de graphique et à y\n",
    "apporter quelques interprétations. Ensuite, nous modéliserons la tendance de\n",
    "cette série temporelle par une fonction de croissance exponentielle et\n",
    "utiliserons ce modèle pour fournir une analyse circonstanciée de l'évolution des\n",
    "émissions de carbone ces derniers siècles. Finalement, nous proposerons une\n",
    "ébauche de validation de notre modèle et en nuancerons les conclusions."
   ]
  },
  {
   "cell_type": "markdown",
   "metadata": {},
   "source": [
    "# CREDIT\n",
    "Cet atelier est basé sur les cours \"Cours enjeux environnementaux Bilan carbone\"\n",
    "de Sylvain Chevillard [3], chargé de recherche à l'Inria."
   ]
  },
  {
   "cell_type": "markdown",
   "metadata": {},
   "source": [
    "# Chargement des données\n",
    "Utilisons la fonction `loadData` pour charger la base de données en mémoire et\n",
    "accéder à ces information via les listes `X` et `Y`. N'hésitez pas à regarder\n",
    "les fichiers `tools.py` et `global.1751_2014.csv` pour comprendre comment il est\n",
    "possible de stocker des informations et de les extraire de manière systématique.\n",
    "\n",
    "Pour rendre notre code plus générique utilisons une constante contenant le nom\n",
    "du ficher contenant les données brutes."
   ]
  },
  {
   "cell_type": "code",
   "execution_count": null,
   "metadata": {},
   "outputs": [],
   "source": [
    "FICHIER_DONNEES_BRUTES = 'global.1751_2014.csv' # ficher de données à charger\n",
    "X, Y = loadData(FICHIER_DONNEES_BRUTES)         # charger les données en mémoire"
   ]
  },
  {
   "cell_type": "markdown",
   "metadata": {},
   "source": [
    "# Analyse des données"
   ]
  },
  {
   "cell_type": "markdown",
   "metadata": {},
   "source": [
    "## Représentation graphique"
   ]
  },
  {
   "cell_type": "markdown",
   "metadata": {},
   "source": [
    "Les données qui composent notre série temporelle étant chargées en mémoire nous\n",
    "pouvons les visualiser grâce à un graphe. Même si les données dont nous\n",
    "disposons sont fondamentalement discrètes, il est d'usage de représenter les \n",
    "séries temporelles avec une ligne continue passant par tous les couples\n",
    "_(temps, valeur)_ issus de la base de donnée.\n",
    "\n",
    "Nous allons utiliser la librairie `matplotlib` de Python [4]. Cette librairie\n",
    "permet de représenter de manière graphique des jeux de données arbitraires. Plus\n",
    "précisément nous allons utiliser la fonction `pyplot` de cette librairie [5].\n",
    "Pour nous simplifier la tâche, nous l'avons déjà importée et pouvons l'appeler\n",
    "n'importe où dans le code avec nom `plt`.\n",
    "\n",
    "Voici 4 fonctions de `pyplot` qui vont nous servir pour représenter nos données\n",
    "de manière graphique:\n",
    "* `plt.pot(x, y, label)` qui trace la courbe où `x` est une liste de point en\n",
    "abscisse et `y` est la liste de points en ordonnées correspondant aux abscisse.\n",
    "`label` est le nom de la courbe.\n",
    "\n",
    "* `plt.xlabel(texte)` permet d'indiquer le nom de l'axe des abscisse.\n",
    "* `plt.ylabel(texte)` permet d'indiquer le nom de l'axe des ordonnées.\n",
    "* `plt.legend()` demande d'afficher la légende.\n",
    "\n",
    "L'exemple ci-dessous, montre comment utiliser la fonction `plt` pour tracer une\n",
    "courbe."
   ]
  },
  {
   "cell_type": "code",
   "execution_count": null,
   "metadata": {},
   "outputs": [],
   "source": [
    "abscisse = [1,2,3,4]\n",
    "ordonnees = [10,5, 30, 20]\n",
    "plt.plot(abscisse, ordonnees, label='Points arbitraires')\n",
    "plt.xlabel('Axe des x')\n",
    "plt.ylabel('Axe des y')\n",
    "plt.legend()"
   ]
  },
  {
   "cell_type": "markdown",
   "metadata": {},
   "source": [
    "Utilisons la fonction `plt` pour représenter de manière graphique nos données `X`\n",
    "et `Y`. L'axe des abscisses devrait être nommé `Années` alors que l'axe des\n",
    "ordonnées devrait être nommé `Emissions fossiles en MtC`. `MtC` signifiant\n",
    "millions de tonnes d'émissions de carbone ici. La courbe devrait avoir pour\n",
    "légende `Données empiriques`."
   ]
  },
  {
   "cell_type": "markdown",
   "metadata": {},
   "source": [
    "> **Pourquoi lorsque nous représentons des données il est indispensable de toujours\n",
    "> nommer ces données et leurs axes ainsi que de préciser dans quelles unités les\n",
    "> données sont exprimées?**"
   ]
  },
  {
   "cell_type": "code",
   "execution_count": null,
   "metadata": {},
   "outputs": [],
   "source": [
    "TODO                                        # tracer la courbe\n",
    "TODO                                        # nommer l'axe des x\n",
    "TODO                                        # nommer l'axe des y\n",
    "TODO                                        # afficher la légende"
   ]
  },
  {
   "cell_type": "markdown",
   "metadata": {},
   "source": [
    "> **Commentez la courbe obtenue en la plaçant dans le contexte historique.**"
   ]
  },
  {
   "cell_type": "markdown",
   "metadata": {},
   "source": [
    "> **Quelle a été la quantité totale d'émissions fossiles durant la période\n",
    "> couverte par le jeu de données? Commentez cette valeur.**"
   ]
  },
  {
   "cell_type": "code",
   "execution_count": null,
   "metadata": {},
   "outputs": [],
   "source": [
    "debut = X[0]                # date de première mesure\n",
    "fin = X[len(X)-1]           # date de dernière mesure\n",
    "total = sum(Y)              # total des émissions\n",
    "\n",
    "# afficher le total\n",
    "print (\"L'humanité a émis {total} MtC entre {debut} et {fin}.\"\n",
    "        .format(debut=debut, fin=fin, total=total) ) \n"
   ]
  },
  {
   "cell_type": "markdown",
   "metadata": {},
   "source": [
    "## Modélisation"
   ]
  },
  {
   "cell_type": "markdown",
   "metadata": {},
   "source": [
    "Il est possible de modéliser la tendance globale de la série temporelle de notre\n",
    "jeu de données avec une croissance exponentielle. Ce modèle est caractérisé par\n",
    "deux paramètres:\n",
    "* un facteur de croissance et\n",
    "* une valeur initiale.\n",
    "\n",
    "Et peut s'écrire selon la relation de récurrence suivante:\n",
    "* _y(n) = C^n \\* y(0)_\n",
    "\n",
    "où _y(n)_ est la valeur de _y_ à l'itération _n_ pour tout _n_ entier et\n",
    "_n >= 0_ et C_ est le facteur de croissance.\n",
    "\n",
    "Dans notre contexte une itération correspond à une année. Par exemple si la\n",
    "valeur initiale _y(0)_ est obtenue pour l'année 2000 alors _y(3)_ est la valeur\n",
    "correspondant à l'année 2003.\n",
    "\n",
    "Pour simplifier notre raisonnement nous allons appliquer un principe\n",
    "fondamental de la programation: _la décomposition en sous-problèmes_.\n",
    "Définissons donc la fonction `modeleExponentiel(croissance, y0, n)` où\n",
    "`croissance` est la taux de croissance annuel, exprimé en pourcents, `y0` est\n",
    "la valeur initiale et `n` est l'itération pour laquelle on souhaite calculer la\n",
    "valeur.\n",
    "\n",
    "__Note 1:__ un taux de croissance annuel de _10%_ correspond à un facteur de\n",
    "croissance de `1.1`.\n",
    "\n",
    "__Note 2:__ un nombre _x_ est élevé à la puissance _n_ en utilisant la syntaxe\n",
    "`x**n` en python. Par exemple l'expression\n",
    "`'2 à la puissance 3 vaut {}'.format(2**3)` en python donne la chaîne de\n",
    "caractères `'2 à la puissance 3 vaut 8'`."
   ]
  },
  {
   "cell_type": "code",
   "execution_count": null,
   "metadata": {},
   "outputs": [],
   "source": [
    "def modeleExponentiel(croissance, y0, n):\n",
    "    \"\"\"\n",
    "    Parameters\n",
    "    ----------\n",
    "    croissance: float\n",
    "        taux de croissance annuel exprimé en %\n",
    "    y0: float\n",
    "        valeur initiale\n",
    "    n: int\n",
    "        itération à laquelle prévoir la valeur\n",
    "\n",
    "    Returns\n",
    "    -------\n",
    "    float\n",
    "        la valeur de l'exponentielle au bout de n itérations\n",
    "    \"\"\"\n",
    "    C = 1.0 + (croissance / 100.0)  # facteur de croissance sur base du taux de\n",
    "                                    # croissance annuel\n",
    "\n",
    "    yn = TODO                       # valeur au bout de n années\n",
    "\n",
    "    return yn                       # retourner la valeur après n années"
   ]
  },
  {
   "cell_type": "markdown",
   "metadata": {},
   "source": [
    "Pour utiliser ce modèle il est nécessaire de connaître la valeur initiale et le\n",
    "facteur de croissance. Pour cela nous définissions la fonction\n",
    "`parametresModeleExponentiel(X, Y)` qui calcule ces deux paramètre pour le jeux\n",
    "de données défini par `X` et `Y`.\n",
    "\n",
    "> **Trouvez une stratégie pour calculer ces paramètres sur la série temporelle\n",
    "> définie par le jeu de données. Une possibilité serait de considérer le premier\n",
    "> point de la série et le dernier point de cette série, mais d'autres stratégies\n",
    "> sont possibles.**\n",
    "\n",
    "__Note 1:__ il est utile de se souvenir que la racine _n_ ième d'un nombre peut\n",
    "ce calculer en portant ce nombre à la puissance _1/n_."
   ]
  },
  {
   "cell_type": "code",
   "execution_count": null,
   "metadata": {},
   "outputs": [],
   "source": [
    "def parametresModeleExponentiel(X, Y):\n",
    "    \"\"\"\n",
    "    Parameters\n",
    "    ----------\n",
    "    X: list\n",
    "        abscisses\n",
    "    Y: list\n",
    "        ordonnées\n",
    "    \n",
    "    Returns\n",
    "    -------\n",
    "    y0: float\n",
    "        la valeur initiale de l'exponentielle\n",
    "    croissance: float\n",
    "        le taux de croissance exprimé en pourcents\n",
    "    \"\"\"\n",
    "    x0 = X[0]                       # première année de mesures\n",
    "    y0 = Y[0]                       # valeur des émissions lors de cette année\n",
    "\n",
    "    xn = X[len(X) - 1]              # dernière année de mesures\n",
    "    yn = Y[len(X) - 1]              # valeur des émissions lors de cette année\n",
    "\n",
    "    nb_annees = xn - x0             # nombre d'années de mesures (i.e., nombre\n",
    "                                    # d'itérations)\n",
    "\n",
    "    C = TODO                        # facteur de croissance\n",
    "    \n",
    "    croissance = (C - 1.0) * 100.0    # taux de croissance annuel en %\n",
    "\n",
    "    return y0, croissance           # retourner la valeur initiale et le taux"
   ]
  },
  {
   "cell_type": "markdown",
   "metadata": {},
   "source": [
    "> **Justifiez votre stratégie de calcul des paramètres du modèle exponentiel.**"
   ]
  },
  {
   "cell_type": "markdown",
   "metadata": {},
   "source": [
    "En jargon ces stratégies s'appellent des _ajustement de courbes_\n",
    "(_curve fitting_). En effet, l'idée sous-jacente est de trouver les paramètres\n",
    "du modèle tels que la courbe qui sera calculée par le modèle ressemble le\n",
    "plus possible aux données qui ont servi à construire le modèle."
   ]
  },
  {
   "cell_type": "markdown",
   "metadata": {},
   "source": [
    "Lorsque l'on travaille avec des bases de données, il est souvent intéressant de\n",
    "se concentrer sur un sous-ensemble de ces données.\n",
    "\n",
    "Pour la suite de notre analyse, nous allons limiter notre étude à certaines\n",
    "périodes de temps. En vertu du principe de décomposition en\n",
    "sous-problèmes créons la fonction `donneesPeriode(X, Y, debut, fin)`. `X` et `Y`\n",
    "sont les valeurs en x et y des données brutes. `debut` est la date de début\n",
    "souhaitée de la période à extraire des données brutes et `fin` est la date de\n",
    "fin de cette période. La fonction retourne `X_` et `Y_` deux sous-listes\n",
    "extraites de `X` et `Y`. Notre hypothèse de travail ici est que les données\n",
    "brutes contiennent toutes les années, classées de manière croissante.\n",
    "\n",
    "Si `X = [2001, 2002, 2003, 2004]` et `Y = [1, 5, 3, 6]` alors `X_` et `Y_`\n",
    "obtenus par l'appel `X_, Y_ = donneesPeriode(X, Y, 2002, 2003)`  devraient\n",
    "valoir `[2002, 2003]` et `[5, 3]`, respectivement.\n",
    "\n",
    "Python offre une syntaxe simple pour extraire une sous-liste d'une liste\n",
    "simplement en donnant l'index du début de la sous-liste et son indexe de fin,\n",
    "séparés par le symbole `:`. Ainsi l'expression `liste[i:j]` retourne la\n",
    "sous-liste constituée des éléments de la liste `liste`, commençant à l'index `i`\n",
    "inclu et terminant à l'indice `j` exclu. Python, comme la majorité des langages\n",
    "de programmation, indexe ses listes en partant de 0. Dans l'exemple ci-dessus,\n",
    "`X[0]` donnerait donc la valeur 2001 alors que `X[2]` donnerait `2003`.\n",
    "\n",
    "Pour extraire la sous-liste commençant à l'année 2002 et terminant à l'année\n",
    "2003 il nous suffit donc de faire `X_ = X[1:3]` et `Y_ = Y[1:3]` car l'année\n",
    "2002 se trouve à l'index 1 et l'année 2003 se trouve à l'index 2 de `X`.\n",
    "\n",
    "La difficulté réside donc ici à trouver les indexes de début et de fin de la\n",
    "sous-liste qui nous intéresse."
   ]
  },
  {
   "cell_type": "code",
   "execution_count": null,
   "metadata": {},
   "outputs": [],
   "source": [
    "def donneesPeriode(X, Y, debut, fin):\n",
    "    \"\"\"\n",
    "    Parameters\n",
    "    ----------\n",
    "    X: list\n",
    "        abscisses\n",
    "    Y: list\n",
    "        ordonnées\n",
    "    debut: int\n",
    "        date de début des données à extraire\n",
    "    fin: int\n",
    "        date de fin des données à extraire\n",
    "    \n",
    "    Returns\n",
    "    -------\n",
    "    X_: list\n",
    "        sous-ensemble des abscisses sur l'intervalle de temps\n",
    "    Y_: list\n",
    "        sous-ensemble des ordonnées sur l'intervalle de temps\n",
    "    \"\"\"\n",
    "    nb_mesures = fin - debut + 1                # nombre de mesures à extraire\n",
    "\n",
    "    index_initial = debut - X[0]                # index de la première mesure\n",
    "    index_final = index_initial + nb_mesures    # index de la dernière mesure\n",
    "\n",
    "    X_ = X[index_initial:index_final]           # garder les x sur l'intervalle \n",
    "    Y_ = Y[index_initial:index_final]           # garder les y sur l'intervalle\n",
    "\n",
    "    return X_, Y_                               # retourner les x et les y"
   ]
  },
  {
   "cell_type": "markdown",
   "metadata": {},
   "source": [
    "Il ne nous reste plus maintenant qu'à définir une fonction qui génère tous les\n",
    "points sur une période de temps pour le modèle exponentiel. Pour cela\n",
    "définissons la fonction  `parametresModeleExponentielPeriode(X, Y, debut, fin)`\n",
    "où `X` et `Y` sont les données brutes issues de la base de donnée et `debut` et\n",
    "`fin` sont les années sur lesquelles nous souhaitons restreindre l'étude. Cette\n",
    "fonctions retourne `X_` et `Y_` qui sont les données brutes sur l'intervalle de\n",
    "temps _[debut, fin]_ mais elle retourne aussi `Y_modele` qui est l'ensemble des\n",
    "ordonnées telles que calculées par le modèle et `croissance` qui est le taux de\n",
    "croissance annuel exprimé en pourcent tel qu'estimé par l'ajustement de courbe.\n",
    "\n",
    "La fonction `parametresModeleExponentielPeriode` consiste donc en l'assemblage\n",
    "de la fonction `donneesPeriode`, de la fonction `parametresModeleExponentiel`\n",
    "et de la fonction `modeleExponentiel`."
   ]
  },
  {
   "cell_type": "code",
   "execution_count": null,
   "metadata": {},
   "outputs": [],
   "source": [
    "def parametresModeleExponentielPeriode(X, Y, debut, fin):\n",
    "    \"\"\"\n",
    "    Parameters\n",
    "    ----------\n",
    "    X: list\n",
    "        abscisses\n",
    "    Y: list\n",
    "        ordonnées\n",
    "    debut: int\n",
    "        date de début des données à extraire\n",
    "    fin: int\n",
    "        date de fin des données à extraire\n",
    "    \n",
    "    Returns\n",
    "    -------\n",
    "    X_: list\n",
    "        sous-ensemble des abscisses sur l'intervalle de temps\n",
    "    Y_: list\n",
    "        sous-ensemble des ordonnées sur l'intervalle de temps\n",
    "    Y_modele: list\n",
    "        ordonnées calculées par le modèle sur l'intervalle de temps\n",
    "    croissance: float\n",
    "        le taux de croissance estimé par l'ajustement de courbe, exprimé en\n",
    "        pourcents\n",
    "    \"\"\"\n",
    "    X_, Y_ = donneesPeriode(X, Y, debut, fin)   # données sur l'intervalle\n",
    "\n",
    "    # obtenir les parametres de l'exponentielle\n",
    "    y0, croissance = parametresModeleExponentiel (X_, Y_) \n",
    "\n",
    "    # calculer toutes les émissions dans l'intervalle de temps grace au modèle\n",
    "    # exponentiel\n",
    "    Y_modele = [modeleExponentiel(croissance, y0, i) for i in range(len(X_))]\n",
    "    \n",
    "    return X_, Y_, Y_modele, croissance # retourner les données calculées"
   ]
  },
  {
   "cell_type": "markdown",
   "metadata": {},
   "source": [
    "## Exploitation des modèles"
   ]
  },
  {
   "cell_type": "markdown",
   "metadata": {},
   "source": [
    "Nous disposons maintenant de toutes les fonctions nécessaires pour analyser\n",
    "notre jeu de données.\n",
    "\n",
    "Commençons par étudier le taux de croissance sur différentes périodes de temps \n",
    "en utilisant un ajustement de courbes pour déterminer les paramètres du modèle\n",
    "de croissance exponentielle.\n",
    "\n",
    "Plus précisément, étudions les trois périodes suivantes:\n",
    "* l'entièreté des données\n",
    "* la période [1850, 1913]\n",
    "* la période [1945, 1973]\n",
    "\n",
    "\n",
    "> **Quels taux de croissance obtenez-vous pour chacune de ces périodes?\n",
    "> Pouvez-vous expliquer les différences?**\n",
    "\n",
    "> **Représentez graphiquement vos résultats**\n",
    "\n",
    "Comme calculer les paramètres d'un modèle peut s'avérer lent et gourmand en\n",
    "ressources, et donc en énergie, nous sauvegarderons nos résultats en mémoire.\n",
    "La structure de donnée _dictionnaire_ est toute indiquée pour accomplir ce\n",
    "travail [6]. Un dictionnaire associe une _valeur_ à une _clé_. Dans notre cas,\n",
    "la clé est la période et la valeur le taux de croissance annuel exprimé en\n",
    "pourcents. Pour obtenir la valeur d'une clé il suffit d'utiliser l'expression\n",
    "`dictionnaire[cle]`. Pour associer une valeur à une clé l'instruction\n",
    "`dictionnaire[cle] = valeur` est utilisée.\n",
    "\n",
    "Par exemple pour créer le dictionnaire `croissance` et lui ajouter la période\n",
    "_[2000, 2002]_ qui a pour valeur 42, nous exécuterons le code suivant:\n",
    "```python\n",
    "croissance = dict()\n",
    "croissance[(2000, 2002)] = 42\n",
    "```\n",
    "\n",
    "et l'expression `'la valeur associée à la période [2000,2002]\n",
    "est {}'.format(croissance[(2000, 2002)])` donne la chaîne de caractère\n",
    "`la valeur associée à la période [2000,2002] est 42'`."
   ]
  },
  {
   "cell_type": "markdown",
   "metadata": {},
   "source": [
    "Commençons par lister toutes les périodes de temps qui nous intéressent et\n",
    "sauvegardons cette information dans une liste appelée `periodes`."
   ]
  },
  {
   "cell_type": "code",
   "execution_count": null,
   "metadata": {},
   "outputs": [],
   "source": [
    "periodes = [\n",
    "    (X[0], X[len(X)-1]),                    # l'entiereté des données\n",
    "    (1850, 1913),                           # [1850, 1913]\n",
    "    (1945, 1973)                            # [1945, 1973]\n",
    "    ]                                       # lister les intervalles à étudier"
   ]
  },
  {
   "cell_type": "markdown",
   "metadata": {},
   "source": [
    "Créons le dictionnaire `croissances` qui stockera le taux de croissance annuel,\n",
    "exprimé en pourcents, calculé par le modèle exponentiel pour toutes les\n",
    "périodes.\n",
    "\n",
    "Créons aussi le dictionnaire `modeles` qui stockera les ordonnées calculées par\n",
    "le modèle exponentiel pour toutes les périodes."
   ]
  },
  {
   "cell_type": "code",
   "execution_count": null,
   "metadata": {},
   "outputs": [],
   "source": [
    "croissances = dict()    # taux de croissance calculés pour chaque période\n",
    "                        #   clé: période sous la forme (debut, fin)\n",
    "                        #   valeur: taux de croissance\n",
    "modeles = dict()        # ordonnées calculées pour chaque période\n",
    "                        #   clé: période sous la forme (debut, fin)\n",
    "                        #   valeur: ordonnées"
   ]
  },
  {
   "cell_type": "markdown",
   "metadata": {},
   "source": [
    "Pour chaque période contenue dans la liste `periodes` nous allons effectuer\n",
    "l'ajustement de courbes pour calculer notre modèle exponentiel sur la période."
   ]
  },
  {
   "cell_type": "code",
   "execution_count": null,
   "metadata": {},
   "outputs": [],
   "source": [
    "# Itérer sur toutes les périodes\n",
    "for debut, fin in periodes:\n",
    "    # calculer les parametres du modèle sur l'intervalle de temps\n",
    "    X_, Y_, Y_modele, croissance = parametresModeleExponentielPeriode(X, Y, debut, fin)\n",
    "\n",
    "    # mémoriser le taux de croissance\n",
    "    croissances[(debut, fin)] = croissance\n",
    "    modeles[(debut, fin)] = Y_modele\n",
    "\n",
    "    # afficher le taux de croissance pour chaque période\n",
    "    print ('Le taux de croissance pour la période [{debut}, {fin}] est de {croissance:.2f}%'\n",
    "            .format(debut=debut, fin=fin, croissance=croissance))"
   ]
  },
  {
   "cell_type": "markdown",
   "metadata": {},
   "source": [
    "Retraçons le graphe de la série temporelle issue de la base de données (si vous\n",
    "avez oublié comment faire, allez jeter un oeil à la section\n",
    "`Représentation graphique` du début de ce document).\n",
    "\n",
    "Ensuite, pour chaque période, récupérer les croissances et modèles "
   ]
  },
  {
   "cell_type": "code",
   "execution_count": null,
   "metadata": {},
   "outputs": [],
   "source": [
    "# Graphe des données de la base de données\n",
    "plt.plot(X, Y, label='Données empiriques')      # afficher les données brutes\n",
    "                                                # sous forme de graphe\n",
    "plt.xlabel('Année')                             # nommer l'axe des x\n",
    "plt.ylabel('Emission fossiles MtC')             # nommer l'axe des y\n",
    "\n",
    "# Graphes des donnés issues du modèle\n",
    "# Pour chaque période\n",
    "for debut, fin in periodes:\n",
    "    X_, Y_ = donneesPeriode(X, Y, debut, fin)   # récupérer les valeurs de la\n",
    "                                                # base de données sur cette\n",
    "                                                # période\n",
    "    Y_modele = modeles[(debut, fin)]            # récupérer le ordonnées\n",
    "                                                # calculées sur base du modèle\n",
    "    croissance = croissances[(debut, fin)]      # récupérer le taux de\n",
    "                                                # croissance caclulé par\n",
    "                                                # ajustement de courbes\n",
    "\n",
    "    # ajouter la courbe à la figure\n",
    "    plt.plot(X_, Y_modele,\n",
    "             label='Modèle exponentiel [{debut}, {fin}] ({croissance:.2f}%)'\n",
    "                    .format(debut=debut, fin=fin, croissance=croissance))\n",
    "\n",
    "plt.legend()                                    # afficher la légende"
   ]
  },
  {
   "cell_type": "markdown",
   "metadata": {},
   "source": [
    "Quelle a été la quantité totale d'émissions fossiles durant la période couverte\n",
    "par le jeu de données selon le modèle et comment se compare-t’elle aux valeurs\n",
    "obtenues sur base des données du jeu de données?"
   ]
  },
  {
   "cell_type": "code",
   "execution_count": null,
   "metadata": {},
   "outputs": [],
   "source": [
    "debut = X[0]                        # date de première mesure\n",
    "fin = X[len(X)-1]                   # date de dernière mesure\n",
    "total = sum(Y)                      # total des émissions\n",
    "\n",
    "Y_modele = modeles[(debut, fin)]    # récupérer les données du modèle\n",
    "total_modele = sum(Y_modele)        # total des émissions selon le modèle exponentiel\n",
    "\n",
    "# afficher le total\n",
    "print (\"L'humanité a émis {total} MtC entre {debut} et {fin} et le modèle en calcule {total_modele} MtC.\"\n",
    "        .format(debut=debut, fin=fin, total=total, total_modele=total_modele) ) \n"
   ]
  },
  {
   "cell_type": "markdown",
   "metadata": {},
   "source": [
    "L'avantage des modèles et qu'ils permettent de cacher une partie de la\n",
    "complexité des phénomènes réels et nous permettent d'estimer certaines\n",
    "quantités. Dans la suite, nous allons évaluer le temps de doublement des\n",
    "émissions fossiles. Si le temps de doublement est de $n$ années, cela veut dire\n",
    "que toutes les $n$ années le taux d'émission est doublé.\n",
    "\n",
    "Pour calculer le temps de doublement, revenons au modèle exponentiel que nous\n",
    "avons défini par _y(n) = C^n \\* y(0)_.\n",
    "\n",
    "Ce qui nous intéresse ici c'est de trouver la valeur de _n_ telle que\n",
    "_y(n) = 2 \\* y(0)_\n",
    "\n",
    "Nous pouvons donc raisonner sur la relation _2 \\* y(0) = C^n \\* y(0)_ que l'on\n",
    "peut réduire à _2 = C^n_ afin de trouver _n_. Le problème ici est que _n_ est un\n",
    "exposant et nous ne disposons pas encore de l'outil idéal pour résoudre ce\n",
    "problème. Toutefois cet outil existe et s'appelle le _logarithme_, qui n'est\n",
    "rien d'autre que l'inverse de la fonction exponentielle. Nous n'entrerons pas\n",
    "dans les détails ici mais une des propriété du logarithme est que _log(C^n)_ est\n",
    "équivalent à _n \\* log(C)_ pour\n",
    "_C > 0_ et _n > 0_.\n",
    "\n",
    "Nous pouvons donc ré-écrire notre formule\n",
    "\n",
    "_2 = C^n_\n",
    "\n",
    "en\n",
    "\n",
    "_log(2) = n \\* log(C)_.\n",
    "\n",
    "Nous voyons que le temps de doublement d'une exponentielle dépend uniquement de\n",
    "son facteur de croissance. Nous pouvons dès lors écrire la fonction\n",
    "`tempsDoublement(croissance)` qui retourne le temps de doublement de la fonction\n",
    "exponentielle caractérisée par le facteur de croissance `croissance`.\n",
    "\n",
    "__note 1:__ En python le calcul du logarithme du nombre _n_ se fait grâce à\n",
    "l'expression `log(n)`.\n",
    "\n",
    "__note 2:__ il est évident qu'en réalité on peut utiliser un _y(x)_ arbitraire à \n",
    "la place de _y(0)_!\n",
    "\n",
    "__note 3:__ que se passe-t’il quand _ 0 < croissance < 1_?"
   ]
  },
  {
   "cell_type": "code",
   "execution_count": null,
   "metadata": {},
   "outputs": [],
   "source": [
    "def tempsDoublement(croissance):\n",
    "    \"\"\"\n",
    "    Parameters\n",
    "    ----------\n",
    "    croissance: float\n",
    "        le taux de croissance exprimé en pourcents\n",
    "    \n",
    "    Returns\n",
    "    -------\n",
    "    float\n",
    "        le temps de doublement\n",
    "    \"\"\"\n",
    "    C = 1.0 + (croissance / 100.0)  # facteur de croissance sur base du taux de\n",
    "                                    # croissance annuel\n",
    "\n",
    "    temps = TODO                    # calcul du temps de doublement\n",
    "\n",
    "    return temps                    # retourner le temps de doublement"
   ]
  },
  {
   "cell_type": "markdown",
   "metadata": {},
   "source": [
    "Nous avons déjà calculé le taux de croissance annuel en pourcent pour chaque\n",
    "période et stocké cette information dans le dictionnaire `croissances`. Pour\n",
    "calculer le temps de doublement sur ces périodes nous allons donc itérer sur\n",
    "tout le dictionnaire `croissance` et enregistrer ces données dans un\n",
    "dictionnaire nommé `doublements` qui utilise la période comme clé et la durée de\n",
    "doublement comme valeur, exprimé en années entières."
   ]
  },
  {
   "cell_type": "markdown",
   "metadata": {},
   "source": [
    "Créons le dictionnaire `doublements` qui stockera les périodes de doublement\n",
    "calculées par le modèle exponentiel pour toutes les périodes."
   ]
  },
  {
   "cell_type": "code",
   "execution_count": null,
   "metadata": {},
   "outputs": [],
   "source": [
    "doublements = dict()    # temps de doublement calculés pour chaque période\n",
    "                        #   clé: période sous la forme (debut, fin)\n",
    "                        #   valeur: temps de doublement, en années entières"
   ]
  },
  {
   "cell_type": "code",
   "execution_count": null,
   "metadata": {},
   "outputs": [],
   "source": [
    "# Graphes des donnés issues du modèle\n",
    "# Pour chaque période\n",
    "for (periode, croissance) in croissances.items():\n",
    "    temps = tempsDoublement(croissance)     # calculer le temps de doublement\n",
    "    temps = int (temps)                     # convertir le temps de doublement\n",
    "                                            # en entier\n",
    "\n",
    "    doublements[periode] = temps             # mémorier le temps de doublement\n",
    "\n",
    "    # afficher le temps de doublement\n",
    "    print (\"Temps de doublement pour la période [{debut}, {fin}]: {temps} années\"\n",
    "          .format(debut=periode[0], fin=periode[1], temps = temps))"
   ]
  },
  {
   "cell_type": "markdown",
   "metadata": {},
   "source": [
    "> **Commentez les temps de doublements obtenus.**"
   ]
  },
  {
   "cell_type": "markdown",
   "metadata": {},
   "source": [
    "## Validation des résultats"
   ]
  },
  {
   "cell_type": "markdown",
   "metadata": {},
   "source": [
    "Un modèle étant une approximation de la réalité afin de favoriser un\n",
    "raisonnement particulier selon certaines hypothèses, il est essentiel de le\n",
    "valider et de vérifier s'il est en adéquation avec les hypothèses initialement\n",
    "posées. En faisant de la sorte, nous sommes en mesure de connaître ses\n",
    "limitations et de ne pas lui faire dire plus que ce qu'il peut dire.\n",
    "\n",
    "Nous allons ici nous contenter d'une validation relativement simple (mais non\n",
    "simpliste) de notre modèle en comparant les valeurs de doublement obtenues avec\n",
    "les valeurs observées dans la base de données elle-même.\n",
    "\n",
    "Pour cela calculons le rapport entre la valeur de la dernière année qui\n",
    "apparait dans la base de donnée et l'année du début de la période de doublement.\n",
    "En théorie le rapport devrait valoir 2."
   ]
  },
  {
   "cell_type": "markdown",
   "metadata": {},
   "source": [
    "Créons le dictionnaire `rapports` qui stockera le rapport ainsi mesuré sur\n",
    "les données de la base de données."
   ]
  },
  {
   "cell_type": "code",
   "execution_count": null,
   "metadata": {},
   "outputs": [],
   "source": [
    "rapports = dict()   # rapport mesuré pour chaque période\n",
    "                    #   clé: période sous la forme (debut, fin)\n",
    "                    #   valeur: rapport"
   ]
  },
  {
   "cell_type": "markdown",
   "metadata": {},
   "source": [
    "Pour chaque période, calculons le rapport et enregistrons-le dans `rapports`."
   ]
  },
  {
   "cell_type": "code",
   "execution_count": null,
   "metadata": {},
   "outputs": [],
   "source": [
    "# Pour chaque période\n",
    "for debut, fin in periodes:\n",
    "    fin_periode_double = fin        # fin de la dernière période de doublement\n",
    "    debut_periode_double = fin - doublements[(debut, fin)]  # début de la\n",
    "                                                            # dernière période\n",
    "                                                            # de doublement\n",
    "\n",
    "    # obtention des données sur la dernière période de doublement\n",
    "    X_periode_double, Y_period_double = donneesPeriode(X, Y, debut_periode_double, fin_periode_double)\n",
    "\n",
    "    y_debut_periode = Y_period_double[0]                        # emissions au\n",
    "                                                                # début de la\n",
    "                                                                # période\n",
    "    y_fin_periode = Y_period_double[len(Y_period_double) - 1]   # émissions à la\n",
    "                                                                # fin de la\n",
    "                                                                # période\n",
    "\n",
    "    rapport = TODO                                      # calcule du rapport\n",
    "\n",
    "    rapports[(debut, fin)] = rapport                    # mémoriser le rapport"
   ]
  },
  {
   "cell_type": "markdown",
   "metadata": {},
   "source": [
    "Effectuons la même opération mais cette fois-ci sur les valeurs calculées avec\n",
    "le modèle exponentiel plutôt que les valeurs lues dans la base de données."
   ]
  },
  {
   "cell_type": "markdown",
   "metadata": {},
   "source": [
    "Créons le dictionnaire `rapports_modele` qui stockera le rapport ainsi calculé\n",
    "avec le modèle exponentiel."
   ]
  },
  {
   "cell_type": "code",
   "execution_count": null,
   "metadata": {},
   "outputs": [],
   "source": [
    "rapports_modele = dict()    # rapport calculé avec le modèle exponentiel pour\n",
    "                            # chaque période\n",
    "                            #   clé: période sous la forme (debut, fin)\n",
    "                            #   valeur: rapport"
   ]
  },
  {
   "cell_type": "markdown",
   "metadata": {},
   "source": [
    "Pour chaque période, calculons le rapport et enregistrons-le dans\n",
    "`rapports_modele`."
   ]
  },
  {
   "cell_type": "code",
   "execution_count": null,
   "metadata": {},
   "outputs": [],
   "source": [
    "# Pour chaque période\n",
    "for debut, fin in periodes:\n",
    "    fin_periode_double = fin        # fin de la dernière période de doublement\n",
    "    debut_periode_double = fin - doublements[(debut, fin)]  # début de la\n",
    "                                                            # dernière période\n",
    "                                                            # de doublement\n",
    "    croissance = croissances[(debut, fin)]  # récupérer le taux de croissance\n",
    "                                            # sur la période\n",
    "\n",
    "    n_debut_periode_double = debut_periode_double - debut   # nombre d'années\n",
    "                                                            # écoulées entre le\n",
    "                                                            # début des mesures\n",
    "                                                            # et le début de la\n",
    "                                                            # dernière période\n",
    "                                                            # de doublement\n",
    "    n_fin_periode_double = fin_periode_double - debut   # nombre d'années\n",
    "                                                        # écoulées entre le\n",
    "                                                        # début des mesures et\n",
    "                                                        # la fin de la dernière\n",
    "                                                        # période de doublement\n",
    "\n",
    "    y_debut_periode_modele = modeleExponentiel(croissance, Y[0], n_debut_periode_double) # calculer la valeur de l'expontentielle au début de la dernière période de doublement\n",
    "    y_fin_periode_modele = modeleExponentiel(croissance, Y[0], n_fin_periode_double)     # calculer la valeur de l'expontentielle à la fin de la dernière période de doublement\n",
    "\n",
    "    rapport = TODO                                          # calcule du rapport\n",
    "    rapports_modele[(debut, fin)] = rapport                 # mémoriser le rapport"
   ]
  },
  {
   "cell_type": "markdown",
   "metadata": {},
   "source": [
    "Pour chaque période affichez les rapports tels que mesurés avec les données de\n",
    "la base de données et ceux obtenus sur base du modèle exponentiel.\n",
    "\n",
    "> **Commentez les résultats, particulièrement pourquoi le rapport ne vaut pas 2,\n",
    "> même lorsque l'on utilise le modèle exponentiel.**"
   ]
  },
  {
   "cell_type": "code",
   "execution_count": null,
   "metadata": {},
   "outputs": [],
   "source": [
    "# pour chaque période\n",
    "for debut, fin in periodes:\n",
    "    rapport = rapports[(debut, fin)]                 # obtenir le rapport mesuré\n",
    "    rapport_modele = rapports_modele[(debut, fin)]   # obtenir le rapport calculé\n",
    "\n",
    "    # afficher le rapport entre les émissions de la période \n",
    "    print ('rapports pour la période [{}, {}]: {} vs {}'.\n",
    "            format(debut, fin, rapport, rapport_modele))"
   ]
  },
  {
   "cell_type": "markdown",
   "metadata": {},
   "source": [
    "# Pour aller plus loin\n",
    "* Trouvez d'autres sources de données publiques et comparez les résultats\n",
    "obtenus. Si les données que vous trouvez sont plus récentes, emettez des\n",
    "prévisions d'émissions sur bases de nos données et comparez les aux observations\n",
    "plus récentes."
   ]
  },
  {
   "cell_type": "markdown",
   "metadata": {},
   "source": [
    "# References\n",
    "[1] Boden, T.A., G. Marland, and R.J. Andres. 2017. Global, Regional, and\n",
    "    National Fossil-Fuel CO2 Emissions. Carbon Dioxide Information Analysis\n",
    "    Center, Oak Ridge National Laboratory, U.S. Department of Energy, Oak Ridge,\n",
    "    Tenn., U.S.A. doi 10.3334/CDIAC/00001_V2017.\n",
    "\n",
    "[2] Louis, F. 2021. Daniel , peux-tu nous parler des séries temporelles ?,\n",
    "    DataScientest, https://datascientest.com/series-temporelles.\n",
    "\n",
    "[3] Chevillard, S. 2022. Cours enjeux environnementaux Bilan carbone.\n",
    "    http://www-sop.inria.fr/members/Sylvain.Chevillard/enseignement_sommaire_fr.php.\n",
    "\n",
    "[4] Matplotlib: Visualization with Python. 2022. https://matplotlib.org/.\n",
    "\n",
    "[5] Pyplot function overview. 2022.\n",
    "    https://matplotlib.org/stable/api/pyplot_summary.html.\n",
    "\n",
    "[6] Comment travailler avec le dictionnaire Python - Tutoriel avec des exemples\n",
    "    de code. 2022.\n",
    "    https://fr.myservername.com/how-work-with-python-dictionary-tutorial-with-code-examples."
   ]
  }
 ],
 "metadata": {
  "interpreter": {
   "hash": "949777d72b0d2535278d3dc13498b2535136f6dfe0678499012e853ee9abcab1"
  },
  "kernelspec": {
   "display_name": "Python 3.10.4 64-bit",
   "language": "python",
   "name": "python3"
  },
  "language_info": {
   "codemirror_mode": {
    "name": "ipython",
    "version": 3
   },
   "file_extension": ".py",
   "mimetype": "text/x-python",
   "name": "python",
   "nbconvert_exporter": "python",
   "pygments_lexer": "ipython3",
   "version": "3.10.4"
  },
  "orig_nbformat": 4
 },
 "nbformat": 4,
 "nbformat_minor": 2
}
